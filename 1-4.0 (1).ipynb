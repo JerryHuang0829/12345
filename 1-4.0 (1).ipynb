{
 "cells": [
  {
   "cell_type": "code",
   "execution_count": 1,
   "metadata": {},
   "outputs": [],
   "source": [
    "from tensorflow.keras.layers import Dense  # ← 匯入 Keras 的密集層類別\n",
    "from tensorflow.keras.models import Sequential  # ← 匯入 Keras 的序列式模型類別\n",
    "from tensorflow.keras.utils import to_categorical\n",
    "import matplotlib.pyplot as plt\n",
    "from tensorflow.keras.datasets import mnist\n",
    "import tensorflow as tf\n",
    "import os\n",
    "import sys\n",
    "import numpy as np"
   ]
  },
  {
   "cell_type": "code",
   "execution_count": 2,
   "metadata": {},
   "outputs": [],
   "source": [
    "(train2_images, train2_labels), (test2_images, test2_labels) = mnist.load_data()"
   ]
  },
  {
   "cell_type": "code",
   "execution_count": 3,
   "metadata": {},
   "outputs": [
    {
     "name": "stdout",
     "output_type": "stream",
     "text": [
      "3.8.8 (v3.8.8:024d8058b0, Feb 19 2021, 08:48:17) \n",
      "[Clang 6.0 (clang-600.0.57)]\n",
      "2.4.1\n",
      "/Users/luruishan/Downloads/德明教學與行政/教材與考題/F0380_Tensorflow_Keras教材/ch01\n",
      "/Users/luruishan\n"
     ]
    }
   ],
   "source": [
    "print(sys.version)  #打印出我們現在使用的Python版本\n",
    "print(tf.__version__) #打印出tensorflow版本號\n",
    "cwd = os.getcwd() #獲得現在所在的檔案路徑\n",
    "print(cwd)\n",
    "os.chdir('/Users/luruishan') #變更現在所在的檔案路徑成為 /Users/luruishan，同學練習時可以改為\"D:\\\"\n",
    "print(os.getcwd()) #重新獲得一次現在所在的檔案路徑"
   ]
  },
  {
   "cell_type": "code",
   "execution_count": 4,
   "metadata": {},
   "outputs": [],
   "source": [
    "# 載入 MNIST 資料集\n",
    "\n",
    "(train_images, train_labels), (test_images, test_labels) = mnist.load_data()"
   ]
  },
  {
   "cell_type": "code",
   "execution_count": 5,
   "metadata": {},
   "outputs": [],
   "source": [
    "(train_images, train_labels), (test_images, test_labels) = tf.keras.datasets.mnist.load_data()"
   ]
  },
  {
   "cell_type": "code",
   "execution_count": 6,
   "metadata": {},
   "outputs": [
    {
     "data": {
      "image/png": "[encoded data removed]",
      "text/plain": [
       "<Figure size 1080x288 with 5 Axes>"
      ]
     },
     "metadata": {
      "needs_background": "light"
     },
     "output_type": "display_data"
    }
   ],
   "source": [
    "# 畫出手寫數字圖片\n",
    "\n",
    "plt.gcf().set_size_inches(15, 4)  # ←設定圖形的寬和高 (英吋)\n",
    "for i in range(5):\n",
    "    ax = plt.subplot(1, 5, 1+i)  # ←設定 1x5 的子圖表, 目前要畫第 1+i 個\n",
    "    ax.imshow(train_images[i], cmap='gray')  # ←顯示灰階圖片(黑底白字)\n",
    "    ax.set_title('label = '+str(train_labels[i]), fontsize=18)  # ←設定標題\n",
    "plt.show()  # 將圖形顯示出來"
   ]
  },
  {
   "cell_type": "code",
   "execution_count": 7,
   "metadata": {},
   "outputs": [
    {
     "name": "stdout",
     "output_type": "stream",
     "text": [
      "(60000, 784)\n",
      "(784,)\n"
     ]
    }
   ],
   "source": [
    "# 預處理訓練資料\n",
    "# ←將 (60000,28,28) 轉換成 (60000,784)\n",
    "x_train = train_images.reshape((60000, 28 * 28))\n",
    "x_train = x_train.astype('float32') / 255  # ←再將 0~255 的像素值轉換成 0~1 的浮點數\n",
    "\n",
    "x_test = test_images.reshape((10000, 28 * 28))  # }←將 10000 筆測試樣本做同樣的轉換\n",
    "x_test = x_test.astype('float32') / 255  # }\n",
    "print(x_train.shape)\n",
    "print(x_train[0].shape)"
   ]
  },
  {
   "cell_type": "code",
   "execution_count": null,
   "metadata": {},
   "outputs": [],
   "source": [
    "# 預處理標籤資料\n",
    "\n",
    "y_train = to_categorical(train_labels)  # ←將標籤做 One-hot 編碼\n",
    "y_test = to_categorical(test_labels)  # ←將測試做 One-hot 編碼\n"
   ]
  },
  {
   "cell_type": "code",
   "execution_count": null,
   "metadata": {},
   "outputs": [],
   "source": [
    "# 程 建立多元分類模型\n",
    "\n",
    "model = Sequential()  # ← 建立序列模型物件\n",
    "model.add(Dense(512, activation='relu', input_dim=784))  # ← 加入第一層\n",
    "model.add(Dense(10, activation='softmax'))  # ← 加入第二層\n",
    "model.compile(optimizer='rmsprop',  # ← 指定優化器\n",
    "              loss='categorical_crossentropy',  # ← 指定損失函數\n",
    "              metrics=['acc'])  # ← 指定評量準則"
   ]
  },
  {
   "cell_type": "code",
   "execution_count": null,
   "metadata": {},
   "outputs": [],
   "source": [
    "model.summary()"
   ]
  },
  {
   "cell_type": "code",
   "execution_count": null,
   "metadata": {},
   "outputs": [],
   "source": [
    "# 程 訓練模型\n",
    "history = model.fit(x_train, y_train, epochs=5, batch_size=128)"
   ]
  },
  {
   "cell_type": "code",
   "execution_count": null,
   "metadata": {},
   "outputs": [],
   "source": [
    "test_loss, test_acc = model.evaluate(x_test, y_test)  # ←使用測試樣本及標籤來評估普適能力\n",
    "print('對測試資料集的準確率：', test_acc)"
   ]
  },
  {
   "cell_type": "code",
   "execution_count": null,
   "metadata": {},
   "outputs": [],
   "source": [
    "model.input"
   ]
  },
  {
   "cell_type": "code",
   "execution_count": null,
   "metadata": {},
   "outputs": [],
   "source": [
    "plt.imshow(test_images[0])"
   ]
  },
  {
   "cell_type": "code",
   "execution_count": null,
   "metadata": {},
   "outputs": [],
   "source": [
    "# ←用測試樣本進行預測 傳入值必須有批次範圍 可以單張圖片 但是要以批次迭代表示法 例如：x_test[0:1] 來表示單張圖片\n",
    "# predict = model.predict_classes(x_test[0:1]) 已廢棄過時不要用\n",
    "predict =np.argmax(model.predict(x_test[0:1]), axis=-1)\n",
    "predict2 = model.predict(x_test[0:1])\n",
    "print(predict)\n",
    "print(predict2)\n",
    "print(np.argmax(predict2))\n"
   ]
  },
  {
   "cell_type": "code",
   "execution_count": null,
   "metadata": {},
   "outputs": [],
   "source": [
    "# 程 畫出測試圖片並標示預測結果與標準答案\n",
    "\n",
    "predict = model.predict_classes(x_test)  # ←用測試樣本進行預測\n",
    "predict2 = model.predict(x_test)\n",
    "\n",
    "plt.gcf().set_size_inches(15, 4)  # ←設定圖形的尺吋\n",
    "for i in range(5):\n",
    "    ax = plt.subplot(1, 5, 1+i)  # ←設定 1x5 的子圖表, 目前要畫第 1+i 個\n",
    "    ax.imshow(test_images[i], cmap='binary')  # ←顯示灰階圖片\n",
    "    ax.set_title('label = '+str(test_labels[i]) +\n",
    "                 '\\npredi = '+str(predict[i]), fontsize=18)  # ←設定標題\n",
    "    ax.set_xticks([])\n",
    "    ax.set_yticks([])  # ←X, Y 軸不顯示刻度\n",
    "plt.show()  # ←將圖形顯示出來"
   ]
  },
  {
   "cell_type": "code",
   "execution_count": null,
   "metadata": {},
   "outputs": [],
   "source": [
    "# 程 將模型存檔\n",
    "model.save('MnistModel.h5')   #← 將模型以指定的檔名存檔\n"
   ]
  },
  {
   "cell_type": "code",
   "execution_count": null,
   "metadata": {},
   "outputs": [],
   "source": [
    "print(predict.shape)\n",
    "print(test_labels.shape)"
   ]
  },
  {
   "cell_type": "code",
   "execution_count": null,
   "metadata": {},
   "outputs": [],
   "source": [
    "#做出 測試集的預測結果與原始標籤的交叉比對表 共10000筆資料\n",
    "import pandas as pd\n",
    "pd.crosstab(test_labels, predict,rownames=[\"label\"], colnames=[\"predict\"])"
   ]
  },
  {
   "cell_type": "code",
   "execution_count": null,
   "metadata": {},
   "outputs": [],
   "source": [
    "# 預測結果與原始標籤的交叉比對表 輸出為html檔\n",
    "crosstab_result = pd.crosstab(test_labels, predict,rownames=[\"label\"], colnames=[\"predict\"])\n",
    "crosstab_result.to_html(\"mnist_crosstab.html\")"
   ]
  }
 ],
 "metadata": {
  "kernelspec": {
   "display_name": "Python 3.6.8 64-bit",
   "metadata": {
    "interpreter": {
     "hash": "05ece30799c2dcdac4c13b3af20453da19de8df0d9a1de52cff7e0b6e1e82bdd"
    }
   },
   "name": "python3"
  },
  "language_info": {
   "codemirror_mode": {
    "name": "ipython",
    "version": 3
   },
   "file_extension": ".py",
   "mimetype": "text/x-python",
   "name": "python",
   "nbconvert_exporter": "python",
   "pygments_lexer": "ipython3",
   "version": "3.8.8"
  },
  "orig_nbformat": 2
 },
 "nbformat": 4,
 "nbformat_minor": 2
}
